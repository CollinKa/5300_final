{
 "cells": [
  {
   "cell_type": "code",
   "execution_count": 1,
   "id": "7b38c038",
   "metadata": {},
   "outputs": [],
   "source": [
    "from IPython import display"
   ]
  },
  {
   "cell_type": "code",
   "execution_count": 2,
   "id": "8a19b20d",
   "metadata": {},
   "outputs": [],
   "source": [
    "%matplotlib inline\n",
    "\n",
    "import numpy as np\n",
    "from scipy.integrate import solve_ivp\n",
    "\n",
    "import matplotlib.pyplot as plt"
   ]
  },
  {
   "cell_type": "code",
   "execution_count": 3,
   "id": "02b91a10",
   "metadata": {},
   "outputs": [
    {
     "data": {
      "image/png": "[encoded data removed]",
      "text/plain": [
       "<IPython.core.display.Image object>"
      ]
     },
     "execution_count": 3,
     "metadata": {},
     "output_type": "execute_result"
    }
   ],
   "source": [
    "display.Image(\"https://dournac.org/info/images/triple_pendulum.png\")"
   ]
  },
  {
   "cell_type": "markdown",
   "id": "2f7972fc",
   "metadata": {},
   "source": [
    "\\begin{align*}\n",
    "L = &\\frac{1}{2} (2 g L_1 m_3 + 2 g L_2 m_3 + 2 g L_3 m_3 + 2 g L_1 m_1 \\cos(\\theta_1) + 2 g L_1 m_2 \\cos(\\theta_1)\\\n",
    "- 2 g L_1 m_3 \\cos(\\theta_1) + 2 g L_2 m_2 \\cos(\\theta_2) - 2 g L_2 m_3 \\cos(\\theta_2) \\\n",
    "- 2 g L_3 m_3 \\cos(\\theta_3) + L_1^2 m_1 \\dot{\\theta}_1^2 + L_1^2 m_2 \\dot{\\theta}_1^2 + L_1^2 m_3 \\dot{\\theta}_1^2\\\n",
    "+ 2 L_1 L_2 m_2 \\cos(\\theta_1 - \\theta_2) \\dot{\\theta}_1 \\dot{\\theta}_2 + 2 L_1 L_2 m_3 \\cos(\\theta_1 - \\theta_2) \\dot{\\theta}_1 \\dot{\\theta}_2\\\n",
    "+ L_2^2 m_2 \\dot{\\theta}_2^2 + L_2^2 m_3 \\dot{\\theta}_2^2 + 2 L_1 L_3 m_3 \\cos(\\theta_1 - \\theta_3) \\dot{\\theta}_1 \\dot{\\theta}_3\\\n",
    "+ 2 L_2 L_3 m_3 \\cos(\\theta_2 - \\theta_3) \\dot{\\theta}_2 \\dot{\\theta}_3 + L_3^2 m_3 \\dot{\\theta}_3^2)\n",
    "\\end{align*}"
   ]
  },
  {
   "cell_type": "code",
   "execution_count": 4,
   "id": "ca5fd872",
   "metadata": {},
   "outputs": [],
   "source": [
    "# The dpi (dots-per-inch) setting will affect the resolution and how large\n",
    "#  the plots appear on screen and printed.  So you may want/need to adjust \n",
    "#  the figsize when creating the figure.\n",
    "plt.rcParams['figure.dpi'] = 100.    # this is the default for notebook\n",
    "\n",
    "# Change the common font size (smaller when higher dpi)\n",
    "font_size = 12\n",
    "plt.rcParams.update({'font.size': font_size})"
   ]
  },
  {
   "cell_type": "code",
   "execution_count": 31,
   "id": "a5c8363f",
   "metadata": {},
   "outputs": [],
   "source": [
    "class TriplePendulum():\n",
    "    \"\"\"\n",
    "    Pendulum class implements the parameters and Lagrange's equations for \n",
    "     a simple pendulum (no driving or damping).\n",
    "     \n",
    "    Parameters\n",
    "    ----------\n",
    "    L1 : float\n",
    "        length of the simple pendulum1\n",
    "    L2:  float(tbd)\n",
    "        length of the simple pendulum1\n",
    "        \n",
    "    g : float\n",
    "        gravitational acceleration at the earth's surface\n",
    "    omega1_0 : float\n",
    "        natural frequency of the pendulum (\\sqrt{g/l} where l is the \n",
    "        pendulum length) \n",
    "    omega2_0:float(tbd)\n",
    "        let it be zero\n",
    "    mass1 : float\n",
    "        mass of pendulum1\n",
    "    mass2 : float(tbd)\n",
    "        mass of pendulum2\n",
    "\n",
    "    Methods\n",
    "    -------\n",
    "    dy_dt(t, y)\n",
    "        Returns the right side of the differential equation in vector y, \n",
    "        given time t and the corresponding value of y.\n",
    "    \"\"\"\n",
    "    def __init__(self, L1=1.,L2=1.,L3 =1., mass1=1.,mass2=1.,mass3 =1., g=1.\n",
    "                ):\n",
    "        self.L1 = L1\n",
    "        self.L2 = L2\n",
    "        self.L3 = L3\n",
    "        self.g = g\n",
    "        self.m1 = mass1\n",
    "        self.m2 = mass2\n",
    "        self.m3 = mass3\n",
    "    \n",
    "    def dy_dt(self, t, y):\n",
    "        \"\"\"\n",
    "        This function returns the right-hand side of the diffeq: \n",
    "        [dphi/dt d^2phi/dt^2]\n",
    "        \n",
    "        Parameters\n",
    "        ----------\n",
    "        t : float\n",
    "            time \n",
    "        y : float\n",
    "            #A 2-component vector with y[0] = theta1(t) and y[1] = dtheta1/dt=z1\n",
    "             y[2] = theta2(t) and y[3] = dtheta2/dt=z2\n",
    "            \n",
    "        Returns\n",
    "        -------\n",
    "        \n",
    "        \"\"\"\n",
    "        L1 = self.L1\n",
    "        L2 = self.L2\n",
    "        L3 = self.L3\n",
    "        g = self.g\n",
    "        m1 = self.m1\n",
    "        m2 = self.m2\n",
    "        m3 = self.m3\n",
    "        \n",
    "        \n",
    "        theta1, theta1_dot, theta2, theta2_dot, theta3, theta3_dot = y\n",
    "        z1 = theta1_dot\n",
    "        z2 = theta2_dot\n",
    "        z3 = theta3_dot\n",
    "        \n",
    "        #I speparate my acceleration into multiple componants\n",
    "        z1_dot1 = (-4. * g * m1 * m2 - 2. * g * m2 ** 2. - 2. * g * m1 * m3 - 2.*g*m2*m3)*np.sin(theta1)\n",
    "        z1_dot2 = (-2. * g * m2**2. - 2.*g*m2*m3) * np.sin(theta1 - 2. * theta2)\n",
    "        z1_dot3 = g * m1 * m3 * np.sin(theta1 + 2.* theta2 - 2. * theta3)\n",
    "        z1_dot4 = g * m1 * m3 * np.sin(theta1 - 2.* theta2 + 2.* theta3)\n",
    "        z1_dot5 = (-2.*L1* m2**2. * z1 ** 2. - 2.*L1*m2*m3* z1 **2.)*np.sin(2.*theta1-2.*theta2)\n",
    "        z1_dot6 = (-4.*L2*m2**2. * z2 **2. - 4.*L2 * m2 * m3 * z2**2.)* np.sin(theta1-theta2)\n",
    "        z1_dot7 = (2. * L3 * m2 * m3 * z3 **3. * np.sin( theta1 - theta3 ))\n",
    "        z1_dot8 = 2.*L3*m2*m3* z3**2. * np.sin(theta1-2.*theta2+theta3)\n",
    "        c1 = 2.* L1\n",
    "        z1_dot9 = (2.*m1*m2 + m2**2. + m2*m3)*c1\n",
    "        z1_dot10 = (-m2**2. - m2*m3)* np.cos(2.*theta1 - 2.*theta2)*c1\n",
    "        z1_dot11 = m1*m3*np.cos(2.*theta2 - 2.*theta3)*c1\n",
    "        \n",
    "        z1_dot = (z1_dot1 + z1_dot1+z1_dot3+z1_dot4+z1_dot5 + z1_dot6 - z1_dot7 - z1_dot8)/(z1_dot9+z1_dot10 -z1_dot11)\n",
    "        \n",
    "        \n",
    "        z2_dot1 = (-2.*g*m1*m2 - 2.*g*m2**2. - g*m1*m3-2.*g*m2*m3)*np.sin(2.*theta1-theta2)\n",
    "        z2_dot2 = (2.*g*m1*m2 + 2.*g*m2**2. + g*m1*m3 + 2.*g*m2*m3)*np.sin(theta2)\n",
    "        z2_dot3 = g*m1*m3*np.sin(theta2-2.*theta3)\n",
    "        z2_dot4 = g*m1*m3*np.sin(2.*theta1+theta2-2.*theta3)\n",
    "        z2_dot5 = 2. * L1 * m1 * m3 * z1**2. * np.sin(theta1+theta2-2.*theta3)\n",
    "        z2_dot6 = (-4.*L1*m1*m2*z1**2. - 4. * L1 * m2 **2. * z1**2. - 2.*L1*m1*m3*z1**2. - 4.*L1*m2*m3*z1**2.)*np.sin(theta1-theta2)\n",
    "        z2_dot7 = 2.*L2*m1*m3*z2**2.*np.sin(2.*theta2-2.*theta3) + (-2.*L2*m2**2. * z2**2. - 2.* L2 *m2*m3*z2**2.)*np.sin(2.*(theta1-theta2))\n",
    "        z2_dot8 = 2.*L3*m2*m3*np.sin(2.*theta1-theta2-theta3)*z3**2.\n",
    "        z2_dot9 = (4.*L3*m1*m3*z3**2. + 2.*L3*m2*m3*z3**2.)*np.sin(theta2-theta3)\n",
    "        c2 = 2.*L2\n",
    "        z2_dot10 = c2* (2.*m1*m2 + m2**2. + m1*m3 +m2*m3)\n",
    "        z2_dot11 = c2 *(-m2**2. - m2*m3)*np.cos(2.*theta1-2.*theta2)\n",
    "        z2_dot12 = c2 * np.cos(2.*theta2 - 2.*theta3)*m1*m3\n",
    "        z2_dot = -1.*(z2_dot1 + z2_dot3 + z2_dot4 + z2_dot5 + z2_dot6 + z2_dot7 - z2_dot8 +z2_dot9)/(z2_dot10+z2_dot11-z2_dot12)\n",
    "        \n",
    "        \n",
    "        \n",
    "        c3 = -2.*m1*np.cos((theta2-theta3)/2.)*np.sin((theta2-theta3)/2.)\n",
    "        \n",
    "        z3_dot1 = (g*m2+g*m3)*np.cos(2.*theta1-theta2)\n",
    "        z3_dot2 = (g*m2 + g*m3)*np.cos(theta2)\n",
    "        z3_dot3 = (2.*L1*m2*z1**2. + 2.*L1*m3*z1**2.)*np.cos(theta1-theta2)\n",
    "        z3_dot4 = 2.*L2*z2**2. * (m2+m3)\n",
    "        z3_dot5 = 2.*L3*m3*z3**2. * np.cos(theta2-theta3)\n",
    "        c4 = L3\n",
    "        z3_dot6 =  (-2.*m1*m2 - m2**2. -m1*m3 -m2*m3)\n",
    "        z3_dot7 = (m2**2. + m2*m3)*np.cos(2.*(theta1-theta2))\n",
    "        z3_dot8 = m1*m3*np.cos(2.*(theta2-theta3))\n",
    "        z3_dot = (c3)*(z3_dot1+z3_dot2+z3_dot3+z3_dot4+z3_dot5)/(c4*(z3_dot6+z3_dot7 + z3_dot8))\n",
    "        \n",
    "\n",
    "        \n",
    "        return theta1_dot, z1_dot, theta2_dot, z2_dot, theta3_dot ,z3_dot\n",
    "        \n",
    "    \n",
    "    def solve_ode(self, t_pts, theta1_0, theta1_dot_0, theta2_0,theta2_dot_0,\n",
    "                  theta3_0, theta3_dot_0):\n",
    "        \"\"\"\n",
    "        Solve the ODE given initial conditions.\n",
    "        Specify smaller abserr and relerr to get more precision.\n",
    "        \"\"\"\n",
    "        y = [theta1_0, theta1_dot_0, theta2_0, theta2_dot_0, theta3_0, theta3_dot_0]\n",
    "        solution = solve_ivp(self.dy_dt,(t_pts[0], t_pts[-1]),\n",
    "                             y,t_eval=t_pts)\n",
    "        #DEBUG\n",
    "        print(solution)\n",
    "        theta1, theta1_dot, theta2, theta2_dot, theta3, theta3_dot = solution.y\n",
    "        \n",
    "        return theta1, theta1_dot, theta2, theta2_dot, theta3, theta3_dot\n"
   ]
  },
  {
   "cell_type": "code",
   "execution_count": 6,
   "id": "51ceb0d2",
   "metadata": {},
   "outputs": [],
   "source": [
    "def plot_y_vs_x(x, y, axis_labels=None, label=None, title=None, \n",
    "                color=None, linestyle=None, semilogy=False, loglog=False,\n",
    "                ax=None):\n",
    "    \"\"\"\n",
    "    Generic plotting function: return a figure axis with a plot of y vs. x,\n",
    "    with line color and style, title, axis labels, and line label\n",
    "    \"\"\"\n",
    "    if ax is None:        # if the axis object doesn't exist, make one\n",
    "        ax = plt.gca()\n",
    "\n",
    "    if (semilogy):\n",
    "        line, = ax.semilogy(x, y, label=label, \n",
    "                            color=color, linestyle=linestyle)\n",
    "    elif (loglog):\n",
    "        line, = ax.loglog(x, y, label=label, \n",
    "                          color=color, linestyle=linestyle)\n",
    "    else:\n",
    "        line, = ax.plot(x, y, label=label, \n",
    "                    color=color, linestyle=linestyle)\n",
    "\n",
    "    if label is not None:    # if a label if passed, show the legend\n",
    "        ax.legend()\n",
    "    if title is not None:    # set a title if one if passed\n",
    "        ax.set_title(title)\n",
    "    if axis_labels is not None:  # set x-axis and y-axis labels if passed  \n",
    "        ax.set_xlabel(axis_labels[0])\n",
    "        ax.set_ylabel(axis_labels[1])\n",
    "\n",
    "    return ax, line"
   ]
  },
  {
   "cell_type": "code",
   "execution_count": 7,
   "id": "3d3f8672",
   "metadata": {},
   "outputs": [],
   "source": [
    "def start_stop_indices(t_pts, plot_start, plot_stop):\n",
    "    start_index = (np.fabs(t_pts-plot_start)).argmin()  # index in t_pts array \n",
    "    stop_index = (np.fabs(t_pts-plot_stop)).argmin()  # index in t_pts array \n",
    "    return start_index, stop_index"
   ]
  },
  {
   "cell_type": "code",
   "execution_count": 36,
   "id": "b4e4d689",
   "metadata": {},
   "outputs": [],
   "source": [
    "\n",
    "theta_vs_time_labels = (r'$t$', r'$\\theta(t)$')\n",
    "\n",
    "\n",
    "# Common plotting time (generate the full time then use slices)\n",
    "t_start = 0.1\n",
    "t_end = 10.\n",
    "delta_t = 0.01\n",
    "\n",
    "t_pts = np.arange(t_start, t_end+delta_t, delta_t)  \n",
    "\n",
    "L1 = 1.\n",
    "L2 = 1.\n",
    "L3 = 1.\n",
    "g = 1.\n",
    "mass1 = 1.\n",
    "mass2 = 1.\n",
    "mass3 = 1.\n",
    "\n",
    "# Instantiate a pendulum \n",
    "tp1 = TriplePendulum(L1=L1,L2=L2,L3 = L3, mass1 = mass1,  mass2=mass2, mass3 = mass3, g=g)"
   ]
  },
  {
   "cell_type": "code",
   "execution_count": 37,
   "id": "528cddc6",
   "metadata": {},
   "outputs": [
    {
     "name": "stdout",
     "output_type": "stream",
     "text": [
      "  message: Required step size is less than spacing between numbers.\n",
      "  success: False\n",
      "   status: -1\n",
      "        t: [ 1.000e-01  1.100e-01 ...  5.790e+00  5.800e+00]\n",
      "        y: [[ 1.571e+00  1.571e+00 ...  1.344e+00  1.449e+00]\n",
      "            [ 0.000e+00 -1.571e-02 ...  3.388e+01 -1.509e+01]\n",
      "            ...\n",
      "            [ 1.571e+00  1.571e+00 ... -2.034e+00 -1.712e+00]\n",
      "            [ 0.000e+00 -2.530e-11 ...  1.053e+01  5.849e+01]]\n",
      "      sol: None\n",
      " t_events: None\n",
      " y_events: None\n",
      "     nfev: 4808\n",
      "     njev: 0\n",
      "      nlu: 0\n"
     ]
    }
   ],
   "source": [
    "theta1_0 = np.pi/2.\n",
    "theta1_dot_0 = 0.\n",
    "theta2_0 = np.pi\n",
    "theta2_dot_0 = 0.\n",
    "theta3_0 = np.pi/2.\n",
    "theta3_dot_0 = 0.\n",
    "\n",
    "\n",
    "theta1, theta_dot, theta2, theta2_dot, theta3, theta3_dot = \\\n",
    "    tp1.solve_ode(t_pts,theta1_0,theta1_dot_0,theta2_0,theta2_dot_0,theta3_0, theta3_dot_0)\n"
   ]
  },
  {
   "cell_type": "markdown",
   "id": "08596752",
   "metadata": {},
   "source": [
    "the number of data like the number element in theta3 depend on initial condition how come?"
   ]
  },
  {
   "cell_type": "code",
   "execution_count": 30,
   "id": "c807c135",
   "metadata": {},
   "outputs": [
    {
     "data": {
      "text/plain": [
       "6"
      ]
     },
     "execution_count": 30,
     "metadata": {},
     "output_type": "execute_result"
    }
   ],
   "source": [
    "#debug\n",
    "len(theta3)"
   ]
  },
  {
   "cell_type": "code",
   "execution_count": 11,
   "id": "a843a756",
   "metadata": {},
   "outputs": [
    {
     "data": {
      "text/plain": [
       "array([1.57079633])"
      ]
     },
     "execution_count": 11,
     "metadata": {},
     "output_type": "execute_result"
    }
   ],
   "source": [
    "theta3"
   ]
  },
  {
   "cell_type": "code",
   "execution_count": 12,
   "id": "34deebc2",
   "metadata": {},
   "outputs": [
    {
     "data": {
      "text/plain": [
       "array([3.14159265])"
      ]
     },
     "execution_count": 12,
     "metadata": {},
     "output_type": "execute_result"
    }
   ],
   "source": [
    "theta2"
   ]
  },
  {
   "cell_type": "code",
   "execution_count": 9,
   "id": "8ae19caf",
   "metadata": {},
   "outputs": [
    {
     "data": {
      "text/plain": [
       "6"
      ]
     },
     "execution_count": 9,
     "metadata": {},
     "output_type": "execute_result"
    }
   ],
   "source": [
    "len(t_pts)"
   ]
  },
  {
   "cell_type": "code",
   "execution_count": 14,
   "id": "36c554bc",
   "metadata": {},
   "outputs": [
    {
     "ename": "ValueError",
     "evalue": "x and y must have same first dimension, but have shapes (5,) and (1,)",
     "output_type": "error",
     "traceback": [
      "\u001b[0;31m---------------------------------------------------------------------------\u001b[0m",
      "\u001b[0;31mValueError\u001b[0m                                Traceback (most recent call last)",
      "Cell \u001b[0;32mIn[14], line 15\u001b[0m\n\u001b[1;32m     13\u001b[0m ax_a \u001b[38;5;241m=\u001b[39m fig\u001b[38;5;241m.\u001b[39madd_subplot(\u001b[38;5;241m1\u001b[39m,\u001b[38;5;241m1\u001b[39m,\u001b[38;5;241m1\u001b[39m)\n\u001b[1;32m     14\u001b[0m start, stop \u001b[38;5;241m=\u001b[39m start_stop_indices(t_pts,t_start,t_end)\n\u001b[0;32m---> 15\u001b[0m \u001b[43mplot_y_vs_x\u001b[49m\u001b[43m(\u001b[49m\u001b[43mt_pts\u001b[49m\u001b[43m[\u001b[49m\u001b[43mstart\u001b[49m\u001b[43m \u001b[49m\u001b[43m:\u001b[49m\u001b[43m \u001b[49m\u001b[43mstop\u001b[49m\u001b[43m]\u001b[49m\u001b[43m,\u001b[49m\u001b[43m \u001b[49m\u001b[43mtheta1\u001b[49m\u001b[43m[\u001b[49m\u001b[43mstart\u001b[49m\u001b[43m \u001b[49m\u001b[43m:\u001b[49m\u001b[43m \u001b[49m\u001b[43mstop\u001b[49m\u001b[43m]\u001b[49m\u001b[43m,\u001b[49m\u001b[43m \u001b[49m\n\u001b[1;32m     16\u001b[0m \u001b[43m            \u001b[49m\u001b[43maxis_labels\u001b[49m\u001b[38;5;241;43m=\u001b[39;49m\u001b[43mtheta_vs_time_labels\u001b[49m\u001b[43m,\u001b[49m\u001b[43m \u001b[49m\n\u001b[1;32m     17\u001b[0m \u001b[43m            \u001b[49m\u001b[43mcolor\u001b[49m\u001b[38;5;241;43m=\u001b[39;49m\u001b[38;5;124;43m'\u001b[39;49m\u001b[38;5;124;43mblue\u001b[39;49m\u001b[38;5;124;43m'\u001b[39;49m\u001b[43m,\u001b[49m\n\u001b[1;32m     18\u001b[0m \u001b[43m            \u001b[49m\u001b[43mlabel\u001b[49m\u001b[38;5;241;43m=\u001b[39;49m\u001b[38;5;124;43mr\u001b[39;49m\u001b[38;5;124;43m'\u001b[39;49m\u001b[38;5;124;43m$\u001b[39;49m\u001b[38;5;124;43m\\\u001b[39;49m\u001b[38;5;124;43mtheta_1(t)$\u001b[39;49m\u001b[38;5;124;43m'\u001b[39;49m\u001b[43m,\u001b[49m\u001b[43m \u001b[49m\n\u001b[1;32m     19\u001b[0m \u001b[43m            \u001b[49m\u001b[43mtitle\u001b[49m\u001b[38;5;241;43m=\u001b[39;49m\u001b[38;5;124;43mr\u001b[39;49m\u001b[38;5;124;43m'\u001b[39;49m\u001b[38;5;124;43m$\u001b[39;49m\u001b[38;5;124;43m\\\u001b[39;49m\u001b[38;5;124;43mtheta_1(t)$\u001b[39;49m\u001b[38;5;124;43m'\u001b[39;49m\u001b[43m,\u001b[49m\u001b[43m \u001b[49m\n\u001b[1;32m     20\u001b[0m \u001b[43m            \u001b[49m\u001b[43max\u001b[49m\u001b[38;5;241;43m=\u001b[39;49m\u001b[43max_a\u001b[49m\u001b[43m)\u001b[49m \n\u001b[1;32m     21\u001b[0m plot_y_vs_x(t_pts[start : stop], theta2[start : stop], \n\u001b[1;32m     22\u001b[0m             axis_labels\u001b[38;5;241m=\u001b[39mtheta_vs_time_labels, \n\u001b[1;32m     23\u001b[0m             color\u001b[38;5;241m=\u001b[39m\u001b[38;5;124m'\u001b[39m\u001b[38;5;124mred\u001b[39m\u001b[38;5;124m'\u001b[39m,\n\u001b[1;32m     24\u001b[0m             label\u001b[38;5;241m=\u001b[39m\u001b[38;5;124mr\u001b[39m\u001b[38;5;124m'\u001b[39m\u001b[38;5;124m$\u001b[39m\u001b[38;5;124m\\\u001b[39m\u001b[38;5;124mtheta_2(t)$\u001b[39m\u001b[38;5;124m'\u001b[39m, \n\u001b[1;32m     25\u001b[0m             title\u001b[38;5;241m=\u001b[39m\u001b[38;5;124mr\u001b[39m\u001b[38;5;124m'\u001b[39m\u001b[38;5;124m$\u001b[39m\u001b[38;5;124m\\\u001b[39m\u001b[38;5;124mtheta_2(t)$\u001b[39m\u001b[38;5;124m'\u001b[39m, \n\u001b[1;32m     26\u001b[0m             ax\u001b[38;5;241m=\u001b[39max_a)\n\u001b[1;32m     27\u001b[0m plot_y_vs_x(t_pts[start : stop], theta3[start : stop], \n\u001b[1;32m     28\u001b[0m             axis_labels\u001b[38;5;241m=\u001b[39mtheta_vs_time_labels, \n\u001b[1;32m     29\u001b[0m             color\u001b[38;5;241m=\u001b[39m\u001b[38;5;124m'\u001b[39m\u001b[38;5;124mred\u001b[39m\u001b[38;5;124m'\u001b[39m,\n\u001b[1;32m     30\u001b[0m             label\u001b[38;5;241m=\u001b[39m\u001b[38;5;124mr\u001b[39m\u001b[38;5;124m'\u001b[39m\u001b[38;5;124m$\u001b[39m\u001b[38;5;124m\\\u001b[39m\u001b[38;5;124mtheta_3(t)$\u001b[39m\u001b[38;5;124m'\u001b[39m, \n\u001b[1;32m     31\u001b[0m             title\u001b[38;5;241m=\u001b[39m\u001b[38;5;124mr\u001b[39m\u001b[38;5;124m'\u001b[39m\u001b[38;5;124m$\u001b[39m\u001b[38;5;124m\\\u001b[39m\u001b[38;5;124mtheta_3(t)$\u001b[39m\u001b[38;5;124m'\u001b[39m, \n\u001b[1;32m     32\u001b[0m             ax\u001b[38;5;241m=\u001b[39max_a)\n",
      "Cell \u001b[0;32mIn[6], line 18\u001b[0m, in \u001b[0;36mplot_y_vs_x\u001b[0;34m(x, y, axis_labels, label, title, color, linestyle, semilogy, loglog, ax)\u001b[0m\n\u001b[1;32m     15\u001b[0m     line, \u001b[38;5;241m=\u001b[39m ax\u001b[38;5;241m.\u001b[39mloglog(x, y, label\u001b[38;5;241m=\u001b[39mlabel, \n\u001b[1;32m     16\u001b[0m                       color\u001b[38;5;241m=\u001b[39mcolor, linestyle\u001b[38;5;241m=\u001b[39mlinestyle)\n\u001b[1;32m     17\u001b[0m \u001b[38;5;28;01melse\u001b[39;00m:\n\u001b[0;32m---> 18\u001b[0m     line, \u001b[38;5;241m=\u001b[39m \u001b[43max\u001b[49m\u001b[38;5;241;43m.\u001b[39;49m\u001b[43mplot\u001b[49m\u001b[43m(\u001b[49m\u001b[43mx\u001b[49m\u001b[43m,\u001b[49m\u001b[43m \u001b[49m\u001b[43my\u001b[49m\u001b[43m,\u001b[49m\u001b[43m \u001b[49m\u001b[43mlabel\u001b[49m\u001b[38;5;241;43m=\u001b[39;49m\u001b[43mlabel\u001b[49m\u001b[43m,\u001b[49m\u001b[43m \u001b[49m\n\u001b[1;32m     19\u001b[0m \u001b[43m                \u001b[49m\u001b[43mcolor\u001b[49m\u001b[38;5;241;43m=\u001b[39;49m\u001b[43mcolor\u001b[49m\u001b[43m,\u001b[49m\u001b[43m \u001b[49m\u001b[43mlinestyle\u001b[49m\u001b[38;5;241;43m=\u001b[39;49m\u001b[43mlinestyle\u001b[49m\u001b[43m)\u001b[49m\n\u001b[1;32m     21\u001b[0m \u001b[38;5;28;01mif\u001b[39;00m label \u001b[38;5;129;01mis\u001b[39;00m \u001b[38;5;129;01mnot\u001b[39;00m \u001b[38;5;28;01mNone\u001b[39;00m:    \u001b[38;5;66;03m# if a label if passed, show the legend\u001b[39;00m\n\u001b[1;32m     22\u001b[0m     ax\u001b[38;5;241m.\u001b[39mlegend()\n",
      "File \u001b[0;32m~/anaconda3/lib/python3.10/site-packages/matplotlib/axes/_axes.py:1688\u001b[0m, in \u001b[0;36mAxes.plot\u001b[0;34m(self, scalex, scaley, data, *args, **kwargs)\u001b[0m\n\u001b[1;32m   1445\u001b[0m \u001b[38;5;124;03m\"\"\"\u001b[39;00m\n\u001b[1;32m   1446\u001b[0m \u001b[38;5;124;03mPlot y versus x as lines and/or markers.\u001b[39;00m\n\u001b[1;32m   1447\u001b[0m \n\u001b[0;32m   (...)\u001b[0m\n\u001b[1;32m   1685\u001b[0m \u001b[38;5;124;03m(``'green'``) or hex strings (``'#008000'``).\u001b[39;00m\n\u001b[1;32m   1686\u001b[0m \u001b[38;5;124;03m\"\"\"\u001b[39;00m\n\u001b[1;32m   1687\u001b[0m kwargs \u001b[38;5;241m=\u001b[39m cbook\u001b[38;5;241m.\u001b[39mnormalize_kwargs(kwargs, mlines\u001b[38;5;241m.\u001b[39mLine2D)\n\u001b[0;32m-> 1688\u001b[0m lines \u001b[38;5;241m=\u001b[39m [\u001b[38;5;241m*\u001b[39m\u001b[38;5;28mself\u001b[39m\u001b[38;5;241m.\u001b[39m_get_lines(\u001b[38;5;241m*\u001b[39margs, data\u001b[38;5;241m=\u001b[39mdata, \u001b[38;5;241m*\u001b[39m\u001b[38;5;241m*\u001b[39mkwargs)]\n\u001b[1;32m   1689\u001b[0m \u001b[38;5;28;01mfor\u001b[39;00m line \u001b[38;5;129;01min\u001b[39;00m lines:\n\u001b[1;32m   1690\u001b[0m     \u001b[38;5;28mself\u001b[39m\u001b[38;5;241m.\u001b[39madd_line(line)\n",
      "File \u001b[0;32m~/anaconda3/lib/python3.10/site-packages/matplotlib/axes/_base.py:311\u001b[0m, in \u001b[0;36m_process_plot_var_args.__call__\u001b[0;34m(self, data, *args, **kwargs)\u001b[0m\n\u001b[1;32m    309\u001b[0m     this \u001b[38;5;241m+\u001b[39m\u001b[38;5;241m=\u001b[39m args[\u001b[38;5;241m0\u001b[39m],\n\u001b[1;32m    310\u001b[0m     args \u001b[38;5;241m=\u001b[39m args[\u001b[38;5;241m1\u001b[39m:]\n\u001b[0;32m--> 311\u001b[0m \u001b[38;5;28;01myield from\u001b[39;00m \u001b[38;5;28;43mself\u001b[39;49m\u001b[38;5;241;43m.\u001b[39;49m\u001b[43m_plot_args\u001b[49m\u001b[43m(\u001b[49m\n\u001b[1;32m    312\u001b[0m \u001b[43m    \u001b[49m\u001b[43mthis\u001b[49m\u001b[43m,\u001b[49m\u001b[43m \u001b[49m\u001b[43mkwargs\u001b[49m\u001b[43m,\u001b[49m\u001b[43m \u001b[49m\u001b[43mambiguous_fmt_datakey\u001b[49m\u001b[38;5;241;43m=\u001b[39;49m\u001b[43mambiguous_fmt_datakey\u001b[49m\u001b[43m)\u001b[49m\n",
      "File \u001b[0;32m~/anaconda3/lib/python3.10/site-packages/matplotlib/axes/_base.py:504\u001b[0m, in \u001b[0;36m_process_plot_var_args._plot_args\u001b[0;34m(self, tup, kwargs, return_kwargs, ambiguous_fmt_datakey)\u001b[0m\n\u001b[1;32m    501\u001b[0m     \u001b[38;5;28mself\u001b[39m\u001b[38;5;241m.\u001b[39maxes\u001b[38;5;241m.\u001b[39myaxis\u001b[38;5;241m.\u001b[39mupdate_units(y)\n\u001b[1;32m    503\u001b[0m \u001b[38;5;28;01mif\u001b[39;00m x\u001b[38;5;241m.\u001b[39mshape[\u001b[38;5;241m0\u001b[39m] \u001b[38;5;241m!=\u001b[39m y\u001b[38;5;241m.\u001b[39mshape[\u001b[38;5;241m0\u001b[39m]:\n\u001b[0;32m--> 504\u001b[0m     \u001b[38;5;28;01mraise\u001b[39;00m \u001b[38;5;167;01mValueError\u001b[39;00m(\u001b[38;5;124mf\u001b[39m\u001b[38;5;124m\"\u001b[39m\u001b[38;5;124mx and y must have same first dimension, but \u001b[39m\u001b[38;5;124m\"\u001b[39m\n\u001b[1;32m    505\u001b[0m                      \u001b[38;5;124mf\u001b[39m\u001b[38;5;124m\"\u001b[39m\u001b[38;5;124mhave shapes \u001b[39m\u001b[38;5;132;01m{\u001b[39;00mx\u001b[38;5;241m.\u001b[39mshape\u001b[38;5;132;01m}\u001b[39;00m\u001b[38;5;124m and \u001b[39m\u001b[38;5;132;01m{\u001b[39;00my\u001b[38;5;241m.\u001b[39mshape\u001b[38;5;132;01m}\u001b[39;00m\u001b[38;5;124m\"\u001b[39m)\n\u001b[1;32m    506\u001b[0m \u001b[38;5;28;01mif\u001b[39;00m x\u001b[38;5;241m.\u001b[39mndim \u001b[38;5;241m>\u001b[39m \u001b[38;5;241m2\u001b[39m \u001b[38;5;129;01mor\u001b[39;00m y\u001b[38;5;241m.\u001b[39mndim \u001b[38;5;241m>\u001b[39m \u001b[38;5;241m2\u001b[39m:\n\u001b[1;32m    507\u001b[0m     \u001b[38;5;28;01mraise\u001b[39;00m \u001b[38;5;167;01mValueError\u001b[39;00m(\u001b[38;5;124mf\u001b[39m\u001b[38;5;124m\"\u001b[39m\u001b[38;5;124mx and y can be no greater than 2D, but have \u001b[39m\u001b[38;5;124m\"\u001b[39m\n\u001b[1;32m    508\u001b[0m                      \u001b[38;5;124mf\u001b[39m\u001b[38;5;124m\"\u001b[39m\u001b[38;5;124mshapes \u001b[39m\u001b[38;5;132;01m{\u001b[39;00mx\u001b[38;5;241m.\u001b[39mshape\u001b[38;5;132;01m}\u001b[39;00m\u001b[38;5;124m and \u001b[39m\u001b[38;5;132;01m{\u001b[39;00my\u001b[38;5;241m.\u001b[39mshape\u001b[38;5;132;01m}\u001b[39;00m\u001b[38;5;124m\"\u001b[39m)\n",
      "\u001b[0;31mValueError\u001b[0m: x and y must have same first dimension, but have shapes (5,) and (1,)"
     ]
    },
    {
     "data": {
      "image/png": "[encoded data removed]",
      "text/plain": [
       "<Figure size 1000x500 with 1 Axes>"
      ]
     },
     "metadata": {},
     "output_type": "display_data"
    }
   ],
   "source": [
    "fig = plt.figure(figsize=(10,5))\n",
    "overall_title = 'double pendulum from Lagrangian:  ' + \\\n",
    "                rf' $\\theta_1(0) = {theta1_0:.2f},$' + \\\n",
    "                rf'  $\\dot\\theta_1(0) = {theta1_dot_0:.2f},$' + \\\n",
    "                rf' $\\theta_2(0) = {theta2_0:.2f},$' + \\\n",
    "                rf'  $\\dot\\theta_2(0) = {theta2_dot_0:.2f},$' + \\\n",
    "                rf' $\\theta_3(0) = {theta3_0:.2f},$' + \\\n",
    "                rf'  $\\dot\\theta_3(0) = {theta3_dot_0:.2f},$' + \\\n",
    "                '\\n'     # \\n means a new line (adds some space here)\n",
    "fig.suptitle(overall_title, va='baseline')\n",
    "\n",
    "# first plot: phi plot \n",
    "ax_a = fig.add_subplot(1,1,1)\n",
    "start, stop = start_stop_indices(t_pts,t_start,t_end)\n",
    "plot_y_vs_x(t_pts[start : stop], theta1[start : stop], \n",
    "            axis_labels=theta_vs_time_labels, \n",
    "            color='blue',\n",
    "            label=r'$\\theta_1(t)$', \n",
    "            title=r'$\\theta_1(t)$', \n",
    "            ax=ax_a) \n",
    "plot_y_vs_x(t_pts[start : stop], theta2[start : stop], \n",
    "            axis_labels=theta_vs_time_labels, \n",
    "            color='red',\n",
    "            label=r'$\\theta_2(t)$', \n",
    "            title=r'$\\theta_2(t)$', \n",
    "            ax=ax_a)\n",
    "plot_y_vs_x(t_pts[start : stop], theta3[start : stop], \n",
    "            axis_labels=theta_vs_time_labels, \n",
    "            color='red',\n",
    "            label=r'$\\theta_3(t)$', \n",
    "            title=r'$\\theta_3(t)$', \n",
    "            ax=ax_a)\n",
    "fig.tight_layout()\n",
    "fig.savefig('triple_pendulum_Lagrange.png', bbox_inches='tight')"
   ]
  },
  {
   "cell_type": "code",
   "execution_count": null,
   "id": "5094bf9f",
   "metadata": {},
   "outputs": [],
   "source": []
  }
 ],
 "metadata": {
  "kernelspec": {
   "display_name": "Python 3 (ipykernel)",
   "language": "python",
   "name": "python3"
  },
  "language_info": {
   "codemirror_mode": {
    "name": "ipython",
    "version": 3
   },
   "file_extension": ".py",
   "mimetype": "text/x-python",
   "name": "python",
   "nbconvert_exporter": "python",
   "pygments_lexer": "ipython3",
   "version": "3.10.9"
  }
 },
 "nbformat": 4,
 "nbformat_minor": 5
}
